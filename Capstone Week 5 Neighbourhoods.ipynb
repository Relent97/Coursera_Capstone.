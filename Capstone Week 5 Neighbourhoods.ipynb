{
 "cells": [
  {
   "cell_type": "markdown",
   "metadata": {},
   "source": [
    "Credit: AmosEgonmwan"
   ]
  },
  {
   "cell_type": "markdown",
   "metadata": {},
   "source": [
    "## The Analysis is to be done on the neighbourhoods in Frederiction, New Brunswick, Canada\n",
    " An internet link containing the geographical coordinates (latitude & longitude) of the neighbourhoods of Fredericton is accessed and explored in this section."
   ]
  },
  {
   "cell_type": "code",
   "execution_count": 2,
   "metadata": {},
   "outputs": [],
   "source": [
    "#The data is available in a json file from the credited data source\n",
    "Url = 'https://opendata.arcgis.com/datasets/823d86e17a6d47808c6e4f1c2dd97928_0.geojson'"
   ]
  },
  {
   "cell_type": "code",
   "execution_count": 3,
   "metadata": {},
   "outputs": [
    {
     "data": {
      "text/plain": [
       "'Print Libraries are ready'"
      ]
     },
     "execution_count": 3,
     "metadata": {},
     "output_type": "execute_result"
    }
   ],
   "source": [
    "#Import Libraries\n",
    "import pandas as pd\n",
    "import numpy as np\n",
    "import matplotlib.pyplot as plt\n",
    "import seaborn as sns\n",
    "from sklearn import preprocessing\n",
    "import requests\n",
    "\"Print Libraries are ready\""
   ]
  },
  {
   "cell_type": "code",
   "execution_count": 4,
   "metadata": {},
   "outputs": [
    {
     "data": {
      "text/plain": [
       "'print json imported'"
      ]
     },
     "execution_count": 4,
     "metadata": {},
     "output_type": "execute_result"
    }
   ],
   "source": [
    "#import json to read the Json file\n",
    "import json\n",
    "\"print json imported\""
   ]
  },
  {
   "cell_type": "code",
   "execution_count": 5,
   "metadata": {},
   "outputs": [],
   "source": [
    "U = requests.get(Url)"
   ]
  },
  {
   "cell_type": "code",
   "execution_count": 6,
   "metadata": {},
   "outputs": [],
   "source": [
    "geo1 = U.json()"
   ]
  },
  {
   "cell_type": "code",
   "execution_count": 7,
   "metadata": {},
   "outputs": [
    {
     "data": {
      "text/plain": [
       "{'type': 'Feature',\n",
       " 'properties': {'FID': 1,\n",
       "  'OBJECTID': 1,\n",
       "  'Neighbourh': 'Fredericton South',\n",
       "  'Shape_Leng': 40412.2767429,\n",
       "  'Shape_Area': 32431889.0002},\n",
       " 'geometry': {'type': 'Polygon',\n",
       "  'coordinates': [[[-66.6193489311946, 45.8688925859664],\n",
       "    [-66.5986068312843, 45.8934317575498],\n",
       "    [-66.5998465063764, 45.8962889533894],\n",
       "    [-66.6005561754508, 45.8987959122414],\n",
       "    [-66.6007627879662, 45.9004150599189],\n",
       "    [-66.6005112596866, 45.9020341603803],\n",
       "    [-66.5993703992758, 45.9049409211054],\n",
       "    [-66.5983912356161, 45.9066536507875],\n",
       "    [-66.5950405196063, 45.9110977503182],\n",
       "    [-66.5924713378938, 45.9137165396725],\n",
       "    [-66.5975198697905, 45.9151915074375],\n",
       "    [-66.6016161874861, 45.9165914405789],\n",
       "    [-66.6063862416448, 45.9184662957134],\n",
       "    [-66.6102310310608, 45.9201848572716],\n",
       "    [-66.6193938469588, 45.9264149777787],\n",
       "    [-66.6194297795702, 45.9243466803461],\n",
       "    [-66.6206694546623, 45.9221345790227],\n",
       "    [-66.6241459348118, 45.9181100781124],\n",
       "    [-66.6249634017204, 45.9177976046497],\n",
       "    [-66.6258796833102, 45.917910095299],\n",
       "    [-66.6292124330143, 45.9200348758374],\n",
       "    [-66.632733828928, 45.9225720071846],\n",
       "    [-66.6356353872957, 45.924409167803],\n",
       "    [-66.6362731911474, 45.9249840491044],\n",
       "    [-66.6381955858555, 45.9258900999313],\n",
       "    [-66.6400281490351, 45.9272147820915],\n",
       "    [-66.6469721261813, 45.9309512150791],\n",
       "    [-66.6492628301558, 45.9324257247173],\n",
       "    [-66.6501521622871, 45.9331254782868],\n",
       "    [-66.6504306400252, 45.9337564984884],\n",
       "    [-66.6505653873178, 45.9347436246005],\n",
       "    [-66.6503587748024, 45.9357182382069],\n",
       "    [-66.6520745569951, 45.9352246860213],\n",
       "    [-66.6532513500173, 45.9350872403269],\n",
       "    [-66.6541855979128, 45.9351122304785],\n",
       "    [-66.6557756159657, 45.9353808738969],\n",
       "    [-66.6597461695215, 45.9365616400027],\n",
       "    [-66.6692323789218, 45.9408659130747],\n",
       "    [-66.6702205257343, 45.9411720097543],\n",
       "    [-66.6705888350008, 45.9415718069541],\n",
       "    [-66.6717027459531, 45.9418654061867],\n",
       "    [-66.6805601346545, 45.9456570693391],\n",
       "    [-66.6808206460869, 45.945613344883],\n",
       "    [-66.690998558256, 45.9498794400526],\n",
       "    [-66.6932353633134, 45.9503791076107],\n",
       "    [-66.6956697977334, 45.9504478115476],\n",
       "    [-66.6955530167465, 45.9498607024316],\n",
       "    [-66.695014027576, 45.9498607024316],\n",
       "    [-66.6956248819692, 45.948261735435],\n",
       "    [-66.699766115429, 45.9452510552052],\n",
       "    [-66.6993978061625, 45.9450511702315],\n",
       "    [-66.6996762839006, 45.9448512845371],\n",
       "    [-66.6992271262585, 45.9446139193389],\n",
       "    [-66.7022364824603, 45.9407722096716],\n",
       "    [-66.7041049782513, 45.9393666396225],\n",
       "    [-66.7046080348104, 45.9387919073835],\n",
       "    [-66.7061441539463, 45.9390980155132],\n",
       "    [-66.7051919397451, 45.9388543785676],\n",
       "    [-66.7056949963042, 45.937405028971],\n",
       "    [-66.706611277894, 45.9362430230541],\n",
       "    [-66.7074107784969, 45.9356745059121],\n",
       "    [-66.7087133356588, 45.9350435075345],\n",
       "    [-66.7110938711618, 45.9342063302882],\n",
       "    [-66.7122526978783, 45.9309262230525],\n",
       "    [-66.7096026677901, 45.9293891917718],\n",
       "    [-66.6746402369322, 45.9061285859908],\n",
       "    [-66.6193489311946, 45.8688925859664]],\n",
       "   [[-66.6934150263703, 45.938648223393],\n",
       "    [-66.7001973067654, 45.9422339647247],\n",
       "    [-66.6939180829294, 45.9467626619838],\n",
       "    [-66.6912141539242, 45.9449262417569],\n",
       "    [-66.6899475293736, 45.9445014828376],\n",
       "    [-66.6890312477838, 45.9444702504357],\n",
       "    [-66.6889683657139, 45.9443827996167],\n",
       "    [-66.6899565125264, 45.9418404190785],\n",
       "    [-66.6934150263703, 45.938648223393]],\n",
       "   [[-66.6550120479742, 45.9291455121693],\n",
       "    [-66.6557756159657, 45.9292704762017],\n",
       "    [-66.6599797314954, 45.9309387190672],\n",
       "    [-66.6629172224744, 45.9322757763752],\n",
       "    [-66.6631867170597, 45.932475707408],\n",
       "    [-66.6631238349898, 45.9327880982037],\n",
       "    [-66.6619290756619, 45.9341813397283],\n",
       "    [-66.6616146653125, 45.9340751297235],\n",
       "    [-66.6601863440107, 45.934818595486],\n",
       "    [-66.6591442982811, 45.9350997354041],\n",
       "    [-66.6586053091106, 45.9351059829416],\n",
       "    [-66.6564673187345, 45.9348748235837],\n",
       "    [-66.6542933957469, 45.9340501391045],\n",
       "    [-66.6529908385849, 45.9333129107794],\n",
       "    [-66.652308118969, 45.9324569639043],\n",
       "    [-66.652191337982, 45.9319696305845],\n",
       "    [-66.6522721863576, 45.9313573339335],\n",
       "    [-66.6520476075366, 45.9305825815444],\n",
       "    [-66.6521284559121, 45.9301264722544],\n",
       "    [-66.6524428662616, 45.9296016295261],\n",
       "    [-66.6531166027247, 45.9293392062996],\n",
       "    [-66.6540508506202, 45.9291580085852],\n",
       "    [-66.6550120479742, 45.9291455121693]],\n",
       "   [[-66.6318085641854, 45.8878357293373],\n",
       "    [-66.6328775593735, 45.8879357750148],\n",
       "    [-66.6341801165354, 45.8882108996987],\n",
       "    [-66.6351502970423, 45.8885422980769],\n",
       "    [-66.6362462416889, 45.8890987927924],\n",
       "    [-66.6370098096804, 45.8896365239624],\n",
       "    [-66.6381596532441, 45.8909183040123],\n",
       "    [-66.6385818614276, 45.8918186586532],\n",
       "    [-66.6387435581788, 45.8925689430378],\n",
       "    [-66.6385908445805, 45.8940757335582],\n",
       "    [-66.6327517952337, 45.900733882662],\n",
       "    [-66.62923039932, 45.9050971942525],\n",
       "    [-66.6276673307256, 45.9064848805016],\n",
       "    [-66.626454605092, 45.9071974626627],\n",
       "    [-66.6253856099039, 45.9076662617274],\n",
       "    [-66.6230230407067, 45.9082913209882],\n",
       "    [-66.6205077579111, 45.9084913384651],\n",
       "    [-66.6180014582685, 45.9082413165064],\n",
       "    [-66.6181092561025, 45.9082100636823],\n",
       "    [-66.6170312777616, 45.9076037554142],\n",
       "    [-66.6161239793246, 45.9068661756028],\n",
       "    [-66.6150909167479, 45.9054972515047],\n",
       "    [-66.6147944727041, 45.9047533927481],\n",
       "    [-66.6146417591058, 45.9037907372083],\n",
       "    [-66.6146956580229, 45.9030155998367],\n",
       "    [-66.614974135761, 45.9020654166814],\n",
       "    [-66.617345688111, 45.8989772091164],\n",
       "    [-66.6203819937714, 45.8954199312614],\n",
       "    [-66.6263468072579, 45.8892363524244],\n",
       "    [-66.6281254715205, 45.8883672199348],\n",
       "    [-66.6291315846387, 45.8880795903605],\n",
       "    [-66.6304521081064, 45.8878732464875],\n",
       "    [-66.6318085641854, 45.8878357293373]]]}}"
      ]
     },
     "execution_count": 7,
     "metadata": {},
     "output_type": "execute_result"
    }
   ],
   "source": [
    "Neigh = geo1['features']\n",
    "Neigh[0]"
   ]
  },
  {
   "cell_type": "markdown",
   "metadata": {},
   "source": [
    "The Fredericton crime data by neighbourhood is available as a free csv file at http://data-fredericton.opendata.arcgis.com/datasets/0ff4acd0a2a14096984f85c06fe4e38e_0"
   ]
  },
  {
   "cell_type": "code",
   "execution_count": 8,
   "metadata": {},
   "outputs": [
    {
     "data": {
      "text/html": [
       "<div>\n",
       "<style scoped>\n",
       "    .dataframe tbody tr th:only-of-type {\n",
       "        vertical-align: middle;\n",
       "    }\n",
       "\n",
       "    .dataframe tbody tr th {\n",
       "        vertical-align: top;\n",
       "    }\n",
       "\n",
       "    .dataframe thead th {\n",
       "        text-align: right;\n",
       "    }\n",
       "</style>\n",
       "<table border=\"1\" class=\"dataframe\">\n",
       "  <thead>\n",
       "    <tr style=\"text-align: right;\">\n",
       "      <th></th>\n",
       "      <th>Neighbourhood</th>\n",
       "      <th>From_Date</th>\n",
       "      <th>To_Date</th>\n",
       "      <th>Crime_Code</th>\n",
       "      <th>Crime_Type</th>\n",
       "      <th>Ward</th>\n",
       "      <th>City</th>\n",
       "      <th>FID</th>\n",
       "    </tr>\n",
       "  </thead>\n",
       "  <tbody>\n",
       "    <tr>\n",
       "      <th>0</th>\n",
       "      <td>Fredericton South</td>\n",
       "      <td>2017-01-05T00:00:00.000Z</td>\n",
       "      <td>2017-01-26T00:00:00.000Z</td>\n",
       "      <td>2120</td>\n",
       "      <td>B&amp;E NON-RESIDNCE</td>\n",
       "      <td>7</td>\n",
       "      <td>Fredericton</td>\n",
       "      <td>1</td>\n",
       "    </tr>\n",
       "    <tr>\n",
       "      <th>1</th>\n",
       "      <td>Fredericton South</td>\n",
       "      <td>2017-03-04T00:00:00.000Z</td>\n",
       "      <td>2017-03-06T00:00:00.000Z</td>\n",
       "      <td>2120</td>\n",
       "      <td>B&amp;E NON-RESIDNCE</td>\n",
       "      <td>7</td>\n",
       "      <td>Fredericton</td>\n",
       "      <td>2</td>\n",
       "    </tr>\n",
       "    <tr>\n",
       "      <th>2</th>\n",
       "      <td>Fredericton South</td>\n",
       "      <td>2017-05-07T00:00:00.000Z</td>\n",
       "      <td>NaN</td>\n",
       "      <td>2120</td>\n",
       "      <td>B&amp;E NON-RESIDNCE</td>\n",
       "      <td>12</td>\n",
       "      <td>Fredericton</td>\n",
       "      <td>3</td>\n",
       "    </tr>\n",
       "    <tr>\n",
       "      <th>3</th>\n",
       "      <td>Fredericton South</td>\n",
       "      <td>2017-06-20T00:00:00.000Z</td>\n",
       "      <td>2017-06-21T00:00:00.000Z</td>\n",
       "      <td>2120</td>\n",
       "      <td>B&amp;E NON-RESIDNCE</td>\n",
       "      <td>12</td>\n",
       "      <td>Fredericton</td>\n",
       "      <td>4</td>\n",
       "    </tr>\n",
       "    <tr>\n",
       "      <th>4</th>\n",
       "      <td>Fredericton South</td>\n",
       "      <td>2017-07-09T00:00:00.000Z</td>\n",
       "      <td>2017-07-10T00:00:00.000Z</td>\n",
       "      <td>2120</td>\n",
       "      <td>B&amp;E NON-RESIDNCE</td>\n",
       "      <td>7</td>\n",
       "      <td>Fredericton</td>\n",
       "      <td>5</td>\n",
       "    </tr>\n",
       "  </tbody>\n",
       "</table>\n",
       "</div>"
      ],
      "text/plain": [
       "       Neighbourhood                 From_Date                   To_Date  \\\n",
       "0  Fredericton South  2017-01-05T00:00:00.000Z  2017-01-26T00:00:00.000Z   \n",
       "1  Fredericton South  2017-03-04T00:00:00.000Z  2017-03-06T00:00:00.000Z   \n",
       "2  Fredericton South  2017-05-07T00:00:00.000Z                       NaN   \n",
       "3  Fredericton South  2017-06-20T00:00:00.000Z  2017-06-21T00:00:00.000Z   \n",
       "4  Fredericton South  2017-07-09T00:00:00.000Z  2017-07-10T00:00:00.000Z   \n",
       "\n",
       "   Crime_Code        Crime_Type  Ward         City  FID  \n",
       "0        2120  B&E NON-RESIDNCE     7  Fredericton    1  \n",
       "1        2120  B&E NON-RESIDNCE     7  Fredericton    2  \n",
       "2        2120  B&E NON-RESIDNCE    12  Fredericton    3  \n",
       "3        2120  B&E NON-RESIDNCE    12  Fredericton    4  \n",
       "4        2120  B&E NON-RESIDNCE     7  Fredericton    5  "
      ]
     },
     "execution_count": 8,
     "metadata": {},
     "output_type": "execute_result"
    }
   ],
   "source": [
    "###Read Federiction's crime data. The data has been gotten from the ferediction open datasets.\n",
    "Crime = pd.read_csv('Crime_by_neighbourhood_2017.csv')\n",
    "Crime.head()"
   ]
  },
  {
   "cell_type": "code",
   "execution_count": null,
   "metadata": {},
   "outputs": [],
   "source": [
    "Crime"
   ]
  },
  {
   "cell_type": "code",
   "execution_count": 9,
   "metadata": {},
   "outputs": [
    {
     "name": "stdout",
     "output_type": "stream",
     "text": [
      "<class 'pandas.core.frame.DataFrame'>\n",
      "RangeIndex: 1460 entries, 0 to 1459\n",
      "Data columns (total 8 columns):\n",
      "Neighbourhood    1460 non-null object\n",
      "From_Date        1456 non-null object\n",
      "To_Date          766 non-null object\n",
      "Crime_Code       1460 non-null int64\n",
      "Crime_Type       1460 non-null object\n",
      "Ward             1460 non-null int64\n",
      "City             1460 non-null object\n",
      "FID              1460 non-null int64\n",
      "dtypes: int64(3), object(5)\n",
      "memory usage: 91.3+ KB\n"
     ]
    }
   ],
   "source": [
    "#From the information on the data set, it is clear that 2 rows have incomplete data, From_Date and To_Date. \n",
    "#Hence these 2 columns will be removed because the data is not datetime bound.\n",
    "Crime.info()"
   ]
  },
  {
   "cell_type": "code",
   "execution_count": 10,
   "metadata": {},
   "outputs": [],
   "source": [
    "Crime.drop([\"From_Date\",\"To_Date\"], axis = 1, inplace = True)"
   ]
  },
  {
   "cell_type": "code",
   "execution_count": 11,
   "metadata": {},
   "outputs": [
    {
     "data": {
      "text/html": [
       "<div>\n",
       "<style scoped>\n",
       "    .dataframe tbody tr th:only-of-type {\n",
       "        vertical-align: middle;\n",
       "    }\n",
       "\n",
       "    .dataframe tbody tr th {\n",
       "        vertical-align: top;\n",
       "    }\n",
       "\n",
       "    .dataframe thead th {\n",
       "        text-align: right;\n",
       "    }\n",
       "</style>\n",
       "<table border=\"1\" class=\"dataframe\">\n",
       "  <thead>\n",
       "    <tr style=\"text-align: right;\">\n",
       "      <th></th>\n",
       "      <th>Neighbourhood</th>\n",
       "      <th>Crime_Code</th>\n",
       "      <th>Crime_Type</th>\n",
       "      <th>Ward</th>\n",
       "      <th>City</th>\n",
       "      <th>FID</th>\n",
       "    </tr>\n",
       "  </thead>\n",
       "  <tbody>\n",
       "    <tr>\n",
       "      <th>0</th>\n",
       "      <td>Fredericton South</td>\n",
       "      <td>2120</td>\n",
       "      <td>B&amp;E NON-RESIDNCE</td>\n",
       "      <td>7</td>\n",
       "      <td>Fredericton</td>\n",
       "      <td>1</td>\n",
       "    </tr>\n",
       "    <tr>\n",
       "      <th>1</th>\n",
       "      <td>Fredericton South</td>\n",
       "      <td>2120</td>\n",
       "      <td>B&amp;E NON-RESIDNCE</td>\n",
       "      <td>7</td>\n",
       "      <td>Fredericton</td>\n",
       "      <td>2</td>\n",
       "    </tr>\n",
       "    <tr>\n",
       "      <th>2</th>\n",
       "      <td>Fredericton South</td>\n",
       "      <td>2120</td>\n",
       "      <td>B&amp;E NON-RESIDNCE</td>\n",
       "      <td>12</td>\n",
       "      <td>Fredericton</td>\n",
       "      <td>3</td>\n",
       "    </tr>\n",
       "    <tr>\n",
       "      <th>3</th>\n",
       "      <td>Fredericton South</td>\n",
       "      <td>2120</td>\n",
       "      <td>B&amp;E NON-RESIDNCE</td>\n",
       "      <td>12</td>\n",
       "      <td>Fredericton</td>\n",
       "      <td>4</td>\n",
       "    </tr>\n",
       "    <tr>\n",
       "      <th>4</th>\n",
       "      <td>Fredericton South</td>\n",
       "      <td>2120</td>\n",
       "      <td>B&amp;E NON-RESIDNCE</td>\n",
       "      <td>7</td>\n",
       "      <td>Fredericton</td>\n",
       "      <td>5</td>\n",
       "    </tr>\n",
       "  </tbody>\n",
       "</table>\n",
       "</div>"
      ],
      "text/plain": [
       "       Neighbourhood  Crime_Code        Crime_Type  Ward         City  FID\n",
       "0  Fredericton South        2120  B&E NON-RESIDNCE     7  Fredericton    1\n",
       "1  Fredericton South        2120  B&E NON-RESIDNCE     7  Fredericton    2\n",
       "2  Fredericton South        2120  B&E NON-RESIDNCE    12  Fredericton    3\n",
       "3  Fredericton South        2120  B&E NON-RESIDNCE    12  Fredericton    4\n",
       "4  Fredericton South        2120  B&E NON-RESIDNCE     7  Fredericton    5"
      ]
     },
     "execution_count": 11,
     "metadata": {},
     "output_type": "execute_result"
    }
   ],
   "source": [
    "Crime.head()"
   ]
  },
  {
   "cell_type": "markdown",
   "metadata": {},
   "source": [
    "#Quick Analysis on the neighbourhoods with the most crime\n",
    "1) WHat are the different crime types and how many are they?\n",
    "2) How many wards are in the city?\n",
    "3) How many Neighbourhoods are in the city?\n"
   ]
  },
  {
   "cell_type": "code",
   "execution_count": 13,
   "metadata": {},
   "outputs": [
    {
     "data": {
      "text/plain": [
       "array(['B&E NON-RESIDNCE', 'MISCHIEF TO PROP', 'THEFT BIKE<$5000',\n",
       "       'THEFT FROM MV < $5000', 'THEFT FROM MV > $5000',\n",
       "       'THEFT OTH <$5000', 'ARSON BY NEG', 'B&E OTHER', 'B&E RESIDENCE',\n",
       "       'MOTOR VEH THEFT', 'ARSON-DAM.PROP.', 'B&E STEAL FIREAR',\n",
       "       'THEFT OTH >$5000', 'ARSON', 'MISCHIEF-DATA', 'MISCHIEF OBS USE',\n",
       "       'THEFT OVER $5000', 'THEFT,BIKE>$5000', ' '], dtype=object)"
      ]
     },
     "execution_count": 13,
     "metadata": {},
     "output_type": "execute_result"
    }
   ],
   "source": [
    "#1\n",
    "Crime[\"Crime_Type\"].unique()\n",
    "#From here we can notice that there is a blank cell so we will have to see why it is blank"
   ]
  },
  {
   "cell_type": "code",
   "execution_count": 14,
   "metadata": {},
   "outputs": [
    {
     "data": {
      "text/plain": [
       "19"
      ]
     },
     "execution_count": 14,
     "metadata": {},
     "output_type": "execute_result"
    }
   ],
   "source": [
    "#1b)\n",
    "Crime[\"Crime_Type\"].nunique()"
   ]
  },
  {
   "cell_type": "code",
   "execution_count": 15,
   "metadata": {},
   "outputs": [
    {
     "data": {
      "text/html": [
       "<div>\n",
       "<style scoped>\n",
       "    .dataframe tbody tr th:only-of-type {\n",
       "        vertical-align: middle;\n",
       "    }\n",
       "\n",
       "    .dataframe tbody tr th {\n",
       "        vertical-align: top;\n",
       "    }\n",
       "\n",
       "    .dataframe thead th {\n",
       "        text-align: right;\n",
       "    }\n",
       "</style>\n",
       "<table border=\"1\" class=\"dataframe\">\n",
       "  <thead>\n",
       "    <tr style=\"text-align: right;\">\n",
       "      <th></th>\n",
       "      <th>Neighbourhood</th>\n",
       "      <th>Crime_Code</th>\n",
       "      <th>Crime_Type</th>\n",
       "      <th>Ward</th>\n",
       "      <th>City</th>\n",
       "      <th>FID</th>\n",
       "    </tr>\n",
       "  </thead>\n",
       "  <tbody>\n",
       "    <tr>\n",
       "      <th>993</th>\n",
       "      <td>Knowledge Park</td>\n",
       "      <td>0</td>\n",
       "      <td></td>\n",
       "      <td>0</td>\n",
       "      <td></td>\n",
       "      <td>994</td>\n",
       "    </tr>\n",
       "    <tr>\n",
       "      <th>999</th>\n",
       "      <td>Grasse Circle</td>\n",
       "      <td>0</td>\n",
       "      <td></td>\n",
       "      <td>0</td>\n",
       "      <td></td>\n",
       "      <td>1000</td>\n",
       "    </tr>\n",
       "    <tr>\n",
       "      <th>1134</th>\n",
       "      <td>Fredericton South</td>\n",
       "      <td>0</td>\n",
       "      <td></td>\n",
       "      <td>0</td>\n",
       "      <td></td>\n",
       "      <td>1135</td>\n",
       "    </tr>\n",
       "    <tr>\n",
       "      <th>1449</th>\n",
       "      <td>Wesbett / Case</td>\n",
       "      <td>0</td>\n",
       "      <td></td>\n",
       "      <td>0</td>\n",
       "      <td></td>\n",
       "      <td>1450</td>\n",
       "    </tr>\n",
       "  </tbody>\n",
       "</table>\n",
       "</div>"
      ],
      "text/plain": [
       "          Neighbourhood  Crime_Code Crime_Type  Ward City   FID\n",
       "993      Knowledge Park           0                0        994\n",
       "999       Grasse Circle           0                0       1000\n",
       "1134  Fredericton South           0                0       1135\n",
       "1449     Wesbett / Case           0                0       1450"
      ]
     },
     "execution_count": 15,
     "metadata": {},
     "output_type": "execute_result"
    }
   ],
   "source": [
    "Crime[Crime[\"Crime_Type\"] == ' ']\n",
    "#So these 4 neighbourhoods do not have any crime rates. Naturally the should be dropped but they will be used as a litmus test"
   ]
  },
  {
   "cell_type": "code",
   "execution_count": 16,
   "metadata": {},
   "outputs": [
    {
     "data": {
      "text/plain": [
       "13"
      ]
     },
     "execution_count": 16,
     "metadata": {},
     "output_type": "execute_result"
    }
   ],
   "source": [
    "#2) There 13 Wards \n",
    "Crime.Ward.nunique()"
   ]
  },
  {
   "cell_type": "code",
   "execution_count": 17,
   "metadata": {},
   "outputs": [
    {
     "data": {
      "text/plain": [
       "66"
      ]
     },
     "execution_count": 17,
     "metadata": {},
     "output_type": "execute_result"
    }
   ],
   "source": [
    "#3) How many Neighbourhoods are in the city? Answer is 66.\n",
    "Crime.Neighbourhood.nunique()"
   ]
  },
  {
   "cell_type": "code",
   "execution_count": 18,
   "metadata": {},
   "outputs": [
    {
     "data": {
      "text/plain": [
       "Neighbourhood\n",
       "Barkers Point                              47\n",
       "Brookside                                  54\n",
       "Brookside Estates                           9\n",
       "Brookside Mini Home Park                    5\n",
       "College Hill                               41\n",
       "Colonial heights                            9\n",
       "Cotton Mill Creek                           4\n",
       "Diamond Street                              1\n",
       "Doak Road                                   1\n",
       "Douglas                                     3\n",
       "Downtown                                  127\n",
       "Dun's Crossing                             18\n",
       "Forest Hill                                12\n",
       "Fredericton South                          85\n",
       "Fulton Heights                             36\n",
       "Garden Creek                               13\n",
       "Garden Place                                4\n",
       "Gilridge Estates                            3\n",
       "Golf Club                                   7\n",
       "Grasse Circle                               1\n",
       "Greenwood Minihome Park                     2\n",
       "Hanwell North                               8\n",
       "Heron Springs                               3\n",
       "Highpoint Ridge                             5\n",
       "Kelly's Court Minihome Park                 1\n",
       "Knob Hill                                   4\n",
       "Knowledge Park                              1\n",
       "Lian / Valcore                              7\n",
       "Lincoln                                    13\n",
       "Lincoln Heights                            14\n",
       "                                         ... \n",
       "Nashwaaksis                                25\n",
       "Nethervue Minihome Park                     1\n",
       "North Devon                               113\n",
       "Northbrook Heights                         10\n",
       "Platt                                     198\n",
       "Poet's Hill                                 4\n",
       "Prospect                                   81\n",
       "Rail Side                                   3\n",
       "Regiment Creek                              1\n",
       "Royal Road                                  7\n",
       "Saint Mary's First Nation                  25\n",
       "Saint Thomas University                     1\n",
       "Sandyville                                  9\n",
       "Serenity Lane                               2\n",
       "Shadowood Estates                           5\n",
       "Silverwood                                 12\n",
       "Skyline Acrea                              27\n",
       "South Devon                                68\n",
       "Southwood Park                             16\n",
       "Springhill                                  1\n",
       "Sunshine Gardens                           10\n",
       "The Hill                                   44\n",
       "The Hugh John Flemming Forestry Center      3\n",
       "University Of New Brunswick                15\n",
       "Waterloo Row                                9\n",
       "Wesbett / Case                              1\n",
       "West Hills                                  5\n",
       "Williams / Hawkins Area                    17\n",
       "Woodstock Road                             41\n",
       "Youngs Crossing                            16\n",
       "Name: Crime_Type, Length: 66, dtype: int64"
      ]
     },
     "execution_count": 18,
     "metadata": {},
     "output_type": "execute_result"
    }
   ],
   "source": [
    "CN = Crime.groupby(\"Neighbourhood\").count()[\"Crime_Type\"]\n",
    "CN"
   ]
  },
  {
   "cell_type": "code",
   "execution_count": 19,
   "metadata": {},
   "outputs": [
    {
     "data": {
      "text/html": [
       "<div>\n",
       "<style scoped>\n",
       "    .dataframe tbody tr th:only-of-type {\n",
       "        vertical-align: middle;\n",
       "    }\n",
       "\n",
       "    .dataframe tbody tr th {\n",
       "        vertical-align: top;\n",
       "    }\n",
       "\n",
       "    .dataframe thead th {\n",
       "        text-align: right;\n",
       "    }\n",
       "</style>\n",
       "<table border=\"1\" class=\"dataframe\">\n",
       "  <thead>\n",
       "    <tr style=\"text-align: right;\">\n",
       "      <th></th>\n",
       "      <th>Crime_Type</th>\n",
       "    </tr>\n",
       "    <tr>\n",
       "      <th>Neighbourhood</th>\n",
       "      <th></th>\n",
       "    </tr>\n",
       "  </thead>\n",
       "  <tbody>\n",
       "    <tr>\n",
       "      <th>Barkers Point</th>\n",
       "      <td>47</td>\n",
       "    </tr>\n",
       "    <tr>\n",
       "      <th>Brookside</th>\n",
       "      <td>54</td>\n",
       "    </tr>\n",
       "    <tr>\n",
       "      <th>Brookside Estates</th>\n",
       "      <td>9</td>\n",
       "    </tr>\n",
       "    <tr>\n",
       "      <th>Brookside Mini Home Park</th>\n",
       "      <td>5</td>\n",
       "    </tr>\n",
       "    <tr>\n",
       "      <th>College Hill</th>\n",
       "      <td>41</td>\n",
       "    </tr>\n",
       "  </tbody>\n",
       "</table>\n",
       "</div>"
      ],
      "text/plain": [
       "                          Crime_Type\n",
       "Neighbourhood                       \n",
       "Barkers Point                     47\n",
       "Brookside                         54\n",
       "Brookside Estates                  9\n",
       "Brookside Mini Home Park           5\n",
       "College Hill                      41"
      ]
     },
     "execution_count": 19,
     "metadata": {},
     "output_type": "execute_result"
    }
   ],
   "source": [
    "CND = pd.DataFrame(CN)\n",
    "CND.head()"
   ]
  },
  {
   "cell_type": "code",
   "execution_count": 20,
   "metadata": {},
   "outputs": [],
   "source": [
    "CND.reset_index(inplace = True)"
   ]
  },
  {
   "cell_type": "code",
   "execution_count": 41,
   "metadata": {},
   "outputs": [],
   "source": [
    "CND.columns = [\"Neighbourhood\",\"Frequency\"]"
   ]
  },
  {
   "cell_type": "code",
   "execution_count": 48,
   "metadata": {},
   "outputs": [
    {
     "data": {
      "text/html": [
       "<div>\n",
       "<style scoped>\n",
       "    .dataframe tbody tr th:only-of-type {\n",
       "        vertical-align: middle;\n",
       "    }\n",
       "\n",
       "    .dataframe tbody tr th {\n",
       "        vertical-align: top;\n",
       "    }\n",
       "\n",
       "    .dataframe thead th {\n",
       "        text-align: right;\n",
       "    }\n",
       "</style>\n",
       "<table border=\"1\" class=\"dataframe\">\n",
       "  <thead>\n",
       "    <tr style=\"text-align: right;\">\n",
       "      <th></th>\n",
       "      <th>Neighbourhood</th>\n",
       "      <th>Frequency</th>\n",
       "    </tr>\n",
       "  </thead>\n",
       "  <tbody>\n",
       "    <tr>\n",
       "      <th>40</th>\n",
       "      <td>Platt</td>\n",
       "      <td>198</td>\n",
       "    </tr>\n",
       "    <tr>\n",
       "      <th>10</th>\n",
       "      <td>Downtown</td>\n",
       "      <td>127</td>\n",
       "    </tr>\n",
       "    <tr>\n",
       "      <th>38</th>\n",
       "      <td>North Devon</td>\n",
       "      <td>113</td>\n",
       "    </tr>\n",
       "    <tr>\n",
       "      <th>13</th>\n",
       "      <td>Fredericton South</td>\n",
       "      <td>85</td>\n",
       "    </tr>\n",
       "    <tr>\n",
       "      <th>42</th>\n",
       "      <td>Prospect</td>\n",
       "      <td>81</td>\n",
       "    </tr>\n",
       "  </tbody>\n",
       "</table>\n",
       "</div>"
      ],
      "text/plain": [
       "        Neighbourhood  Frequency\n",
       "40              Platt        198\n",
       "10           Downtown        127\n",
       "38        North Devon        113\n",
       "13  Fredericton South         85\n",
       "42           Prospect         81"
      ]
     },
     "execution_count": 48,
     "metadata": {},
     "output_type": "execute_result"
    }
   ],
   "source": [
    "CND.nlargest(5,\"Frequency\")"
   ]
  },
  {
   "cell_type": "code",
   "execution_count": 49,
   "metadata": {},
   "outputs": [
    {
     "data": {
      "image/png": "[encoded data removed]",
      "text/plain": [
       "<Figure size 720x360 with 1 Axes>"
      ]
     },
     "metadata": {
      "needs_background": "light"
     },
     "output_type": "display_data"
    }
   ],
   "source": [
    "#The top 5 Neighbourhoods by crime frequency i.e the target market\n",
    "plt.figure(figsize = (10,5))\n",
    "Chart = sns.lineplot(x = \"Neighbourhood\", y = \"Frequency\", data = CND.nlargest(5,\"Frequency\"))"
   ]
  },
  {
   "cell_type": "code",
   "execution_count": 119,
   "metadata": {},
   "outputs": [
    {
     "data": {
      "text/html": [
       "<div>\n",
       "<style scoped>\n",
       "    .dataframe tbody tr th:only-of-type {\n",
       "        vertical-align: middle;\n",
       "    }\n",
       "\n",
       "    .dataframe tbody tr th {\n",
       "        vertical-align: top;\n",
       "    }\n",
       "\n",
       "    .dataframe thead th {\n",
       "        text-align: right;\n",
       "    }\n",
       "</style>\n",
       "<table border=\"1\" class=\"dataframe\">\n",
       "  <thead>\n",
       "    <tr style=\"text-align: right;\">\n",
       "      <th></th>\n",
       "      <th>Frequency</th>\n",
       "    </tr>\n",
       "  </thead>\n",
       "  <tbody>\n",
       "    <tr>\n",
       "      <th>count</th>\n",
       "      <td>66.000000</td>\n",
       "    </tr>\n",
       "    <tr>\n",
       "      <th>mean</th>\n",
       "      <td>22.121212</td>\n",
       "    </tr>\n",
       "    <tr>\n",
       "      <th>std</th>\n",
       "      <td>34.879359</td>\n",
       "    </tr>\n",
       "    <tr>\n",
       "      <th>min</th>\n",
       "      <td>1.000000</td>\n",
       "    </tr>\n",
       "    <tr>\n",
       "      <th>25%</th>\n",
       "      <td>3.000000</td>\n",
       "    </tr>\n",
       "    <tr>\n",
       "      <th>50%</th>\n",
       "      <td>9.000000</td>\n",
       "    </tr>\n",
       "    <tr>\n",
       "      <th>75%</th>\n",
       "      <td>23.250000</td>\n",
       "    </tr>\n",
       "    <tr>\n",
       "      <th>max</th>\n",
       "      <td>198.000000</td>\n",
       "    </tr>\n",
       "  </tbody>\n",
       "</table>\n",
       "</div>"
      ],
      "text/plain": [
       "        Frequency\n",
       "count   66.000000\n",
       "mean    22.121212\n",
       "std     34.879359\n",
       "min      1.000000\n",
       "25%      3.000000\n",
       "50%      9.000000\n",
       "75%     23.250000\n",
       "max    198.000000"
      ]
     },
     "execution_count": 119,
     "metadata": {},
     "output_type": "execute_result"
    }
   ],
   "source": [
    "CND.describe()"
   ]
  },
  {
   "cell_type": "code",
   "execution_count": null,
   "metadata": {},
   "outputs": [],
   "source": []
  },
  {
   "cell_type": "code",
   "execution_count": 27,
   "metadata": {},
   "outputs": [],
   "source": [
    "CT = Crime.groupby(\"Crime_Type\").size()\n"
   ]
  },
  {
   "cell_type": "code",
   "execution_count": 28,
   "metadata": {},
   "outputs": [],
   "source": [
    "CTD = pd.DataFrame(CT)"
   ]
  },
  {
   "cell_type": "code",
   "execution_count": 30,
   "metadata": {},
   "outputs": [],
   "source": [
    "CTD.reset_index(inplace = True)"
   ]
  },
  {
   "cell_type": "code",
   "execution_count": 32,
   "metadata": {},
   "outputs": [],
   "source": [
    "CTD.columns = [\"Crime\", \"Frequency\"]"
   ]
  },
  {
   "cell_type": "code",
   "execution_count": 33,
   "metadata": {},
   "outputs": [
    {
     "data": {
      "text/html": [
       "<div>\n",
       "<style scoped>\n",
       "    .dataframe tbody tr th:only-of-type {\n",
       "        vertical-align: middle;\n",
       "    }\n",
       "\n",
       "    .dataframe tbody tr th {\n",
       "        vertical-align: top;\n",
       "    }\n",
       "\n",
       "    .dataframe thead th {\n",
       "        text-align: right;\n",
       "    }\n",
       "</style>\n",
       "<table border=\"1\" class=\"dataframe\">\n",
       "  <thead>\n",
       "    <tr style=\"text-align: right;\">\n",
       "      <th></th>\n",
       "      <th>Crime</th>\n",
       "      <th>Frequency</th>\n",
       "    </tr>\n",
       "  </thead>\n",
       "  <tbody>\n",
       "    <tr>\n",
       "      <th>15</th>\n",
       "      <td>THEFT OTH &lt;$5000</td>\n",
       "      <td>458</td>\n",
       "    </tr>\n",
       "    <tr>\n",
       "      <th>13</th>\n",
       "      <td>THEFT FROM MV &lt; $5000</td>\n",
       "      <td>356</td>\n",
       "    </tr>\n",
       "    <tr>\n",
       "      <th>9</th>\n",
       "      <td>MISCHIEF TO PROP</td>\n",
       "      <td>246</td>\n",
       "    </tr>\n",
       "    <tr>\n",
       "      <th>6</th>\n",
       "      <td>B&amp;E RESIDENCE</td>\n",
       "      <td>151</td>\n",
       "    </tr>\n",
       "    <tr>\n",
       "      <th>12</th>\n",
       "      <td>THEFT BIKE&lt;$5000</td>\n",
       "      <td>63</td>\n",
       "    </tr>\n",
       "    <tr>\n",
       "      <th>5</th>\n",
       "      <td>B&amp;E OTHER</td>\n",
       "      <td>58</td>\n",
       "    </tr>\n",
       "    <tr>\n",
       "      <th>4</th>\n",
       "      <td>B&amp;E NON-RESIDNCE</td>\n",
       "      <td>51</td>\n",
       "    </tr>\n",
       "    <tr>\n",
       "      <th>11</th>\n",
       "      <td>MOTOR VEH THEFT</td>\n",
       "      <td>40</td>\n",
       "    </tr>\n",
       "    <tr>\n",
       "      <th>16</th>\n",
       "      <td>THEFT OTH &gt;$5000</td>\n",
       "      <td>9</td>\n",
       "    </tr>\n",
       "    <tr>\n",
       "      <th>14</th>\n",
       "      <td>THEFT FROM MV &gt; $5000</td>\n",
       "      <td>5</td>\n",
       "    </tr>\n",
       "    <tr>\n",
       "      <th>1</th>\n",
       "      <td>ARSON</td>\n",
       "      <td>5</td>\n",
       "    </tr>\n",
       "    <tr>\n",
       "      <th>0</th>\n",
       "      <td></td>\n",
       "      <td>4</td>\n",
       "    </tr>\n",
       "    <tr>\n",
       "      <th>3</th>\n",
       "      <td>ARSON-DAM.PROP.</td>\n",
       "      <td>4</td>\n",
       "    </tr>\n",
       "    <tr>\n",
       "      <th>7</th>\n",
       "      <td>B&amp;E STEAL FIREAR</td>\n",
       "      <td>3</td>\n",
       "    </tr>\n",
       "    <tr>\n",
       "      <th>10</th>\n",
       "      <td>MISCHIEF-DATA</td>\n",
       "      <td>2</td>\n",
       "    </tr>\n",
       "    <tr>\n",
       "      <th>18</th>\n",
       "      <td>THEFT,BIKE&gt;$5000</td>\n",
       "      <td>2</td>\n",
       "    </tr>\n",
       "    <tr>\n",
       "      <th>8</th>\n",
       "      <td>MISCHIEF OBS USE</td>\n",
       "      <td>1</td>\n",
       "    </tr>\n",
       "    <tr>\n",
       "      <th>2</th>\n",
       "      <td>ARSON BY NEG</td>\n",
       "      <td>1</td>\n",
       "    </tr>\n",
       "    <tr>\n",
       "      <th>17</th>\n",
       "      <td>THEFT OVER $5000</td>\n",
       "      <td>1</td>\n",
       "    </tr>\n",
       "  </tbody>\n",
       "</table>\n",
       "</div>"
      ],
      "text/plain": [
       "                    Crime  Frequency\n",
       "15       THEFT OTH <$5000        458\n",
       "13  THEFT FROM MV < $5000        356\n",
       "9        MISCHIEF TO PROP        246\n",
       "6           B&E RESIDENCE        151\n",
       "12       THEFT BIKE<$5000         63\n",
       "5               B&E OTHER         58\n",
       "4        B&E NON-RESIDNCE         51\n",
       "11        MOTOR VEH THEFT         40\n",
       "16       THEFT OTH >$5000          9\n",
       "14  THEFT FROM MV > $5000          5\n",
       "1                   ARSON          5\n",
       "0                                  4\n",
       "3         ARSON-DAM.PROP.          4\n",
       "7        B&E STEAL FIREAR          3\n",
       "10          MISCHIEF-DATA          2\n",
       "18       THEFT,BIKE>$5000          2\n",
       "8        MISCHIEF OBS USE          1\n",
       "2            ARSON BY NEG          1\n",
       "17       THEFT OVER $5000          1"
      ]
     },
     "execution_count": 33,
     "metadata": {},
     "output_type": "execute_result"
    }
   ],
   "source": [
    "# It is clear that the most common type of crime in Ferediction is theft less than $5,000 \n",
    "CTD.sort_values(\"Frequency\", ascending = False)"
   ]
  },
  {
   "cell_type": "code",
   "execution_count": 52,
   "metadata": {},
   "outputs": [
    {
     "data": {
      "image/png": "[encoded data removed]",
      "text/plain": [
       "<Figure size 720x360 with 1 Axes>"
      ]
     },
     "metadata": {
      "needs_background": "light"
     },
     "output_type": "display_data"
    }
   ],
   "source": [
    "plt.figure(figsize = (10,5))\n",
    "Chart = sns.lineplot(x = \"Crime\", y = \"Frequency\", data = CTD.nlargest(5,\"Frequency\"))"
   ]
  },
  {
   "cell_type": "code",
   "execution_count": 34,
   "metadata": {},
   "outputs": [],
   "source": [
    "#Now that we have our top 5 crime Neighbourhoods and top 5 crimes let's see the top crimes in these neighbourhoods"
   ]
  },
  {
   "cell_type": "code",
   "execution_count": 61,
   "metadata": {},
   "outputs": [],
   "source": [
    "Top_5 = CND.nlargest(5,\"Frequency\").Neighbourhood.unique()"
   ]
  },
  {
   "cell_type": "code",
   "execution_count": 64,
   "metadata": {},
   "outputs": [],
   "source": [
    "Top_5 = ['Platt', 'Downtown', 'North Devon', 'Fredericton South',\n",
    "       'Prospect']"
   ]
  },
  {
   "cell_type": "code",
   "execution_count": 72,
   "metadata": {},
   "outputs": [],
   "source": [
    "#Create a Dataframe for the top 5 Neighbourhoods\n",
    "Top_5DF = Crime[Crime[\"Neighbourhood\"].isin(Top_5)]"
   ]
  },
  {
   "cell_type": "code",
   "execution_count": 73,
   "metadata": {},
   "outputs": [
    {
     "data": {
      "text/html": [
       "<div>\n",
       "<style scoped>\n",
       "    .dataframe tbody tr th:only-of-type {\n",
       "        vertical-align: middle;\n",
       "    }\n",
       "\n",
       "    .dataframe tbody tr th {\n",
       "        vertical-align: top;\n",
       "    }\n",
       "\n",
       "    .dataframe thead th {\n",
       "        text-align: right;\n",
       "    }\n",
       "</style>\n",
       "<table border=\"1\" class=\"dataframe\">\n",
       "  <thead>\n",
       "    <tr style=\"text-align: right;\">\n",
       "      <th></th>\n",
       "      <th>Neighbourhood</th>\n",
       "      <th>Crime_Code</th>\n",
       "      <th>Crime_Type</th>\n",
       "      <th>Ward</th>\n",
       "      <th>City</th>\n",
       "      <th>FID</th>\n",
       "    </tr>\n",
       "  </thead>\n",
       "  <tbody>\n",
       "    <tr>\n",
       "      <th>0</th>\n",
       "      <td>Fredericton South</td>\n",
       "      <td>2120</td>\n",
       "      <td>B&amp;E NON-RESIDNCE</td>\n",
       "      <td>7</td>\n",
       "      <td>Fredericton</td>\n",
       "      <td>1</td>\n",
       "    </tr>\n",
       "    <tr>\n",
       "      <th>1</th>\n",
       "      <td>Fredericton South</td>\n",
       "      <td>2120</td>\n",
       "      <td>B&amp;E NON-RESIDNCE</td>\n",
       "      <td>7</td>\n",
       "      <td>Fredericton</td>\n",
       "      <td>2</td>\n",
       "    </tr>\n",
       "    <tr>\n",
       "      <th>2</th>\n",
       "      <td>Fredericton South</td>\n",
       "      <td>2120</td>\n",
       "      <td>B&amp;E NON-RESIDNCE</td>\n",
       "      <td>12</td>\n",
       "      <td>Fredericton</td>\n",
       "      <td>3</td>\n",
       "    </tr>\n",
       "    <tr>\n",
       "      <th>3</th>\n",
       "      <td>Fredericton South</td>\n",
       "      <td>2120</td>\n",
       "      <td>B&amp;E NON-RESIDNCE</td>\n",
       "      <td>12</td>\n",
       "      <td>Fredericton</td>\n",
       "      <td>4</td>\n",
       "    </tr>\n",
       "    <tr>\n",
       "      <th>4</th>\n",
       "      <td>Fredericton South</td>\n",
       "      <td>2120</td>\n",
       "      <td>B&amp;E NON-RESIDNCE</td>\n",
       "      <td>7</td>\n",
       "      <td>Fredericton</td>\n",
       "      <td>5</td>\n",
       "    </tr>\n",
       "  </tbody>\n",
       "</table>\n",
       "</div>"
      ],
      "text/plain": [
       "       Neighbourhood  Crime_Code        Crime_Type  Ward         City  FID\n",
       "0  Fredericton South        2120  B&E NON-RESIDNCE     7  Fredericton    1\n",
       "1  Fredericton South        2120  B&E NON-RESIDNCE     7  Fredericton    2\n",
       "2  Fredericton South        2120  B&E NON-RESIDNCE    12  Fredericton    3\n",
       "3  Fredericton South        2120  B&E NON-RESIDNCE    12  Fredericton    4\n",
       "4  Fredericton South        2120  B&E NON-RESIDNCE     7  Fredericton    5"
      ]
     },
     "execution_count": 73,
     "metadata": {},
     "output_type": "execute_result"
    }
   ],
   "source": [
    "Top_5DF.head()"
   ]
  },
  {
   "cell_type": "code",
   "execution_count": 83,
   "metadata": {},
   "outputs": [],
   "source": [
    "DF = Top_5DF.groupby([\"Neighbourhood\",\"Crime_Type\"]).size()"
   ]
  },
  {
   "cell_type": "code",
   "execution_count": 84,
   "metadata": {},
   "outputs": [],
   "source": [
    "DF = pd.DataFrame(DF)"
   ]
  },
  {
   "cell_type": "code",
   "execution_count": 86,
   "metadata": {},
   "outputs": [],
   "source": [
    "DF.reset_index(inplace = True)"
   ]
  },
  {
   "cell_type": "code",
   "execution_count": 88,
   "metadata": {},
   "outputs": [
    {
     "data": {
      "text/html": [
       "<div>\n",
       "<style scoped>\n",
       "    .dataframe tbody tr th:only-of-type {\n",
       "        vertical-align: middle;\n",
       "    }\n",
       "\n",
       "    .dataframe tbody tr th {\n",
       "        vertical-align: top;\n",
       "    }\n",
       "\n",
       "    .dataframe thead th {\n",
       "        text-align: right;\n",
       "    }\n",
       "</style>\n",
       "<table border=\"1\" class=\"dataframe\">\n",
       "  <thead>\n",
       "    <tr style=\"text-align: right;\">\n",
       "      <th></th>\n",
       "      <th>Neighbourhood</th>\n",
       "      <th>Crime_Type</th>\n",
       "      <th>0</th>\n",
       "    </tr>\n",
       "  </thead>\n",
       "  <tbody>\n",
       "    <tr>\n",
       "      <th>0</th>\n",
       "      <td>Downtown</td>\n",
       "      <td>ARSON</td>\n",
       "      <td>1</td>\n",
       "    </tr>\n",
       "    <tr>\n",
       "      <th>1</th>\n",
       "      <td>Downtown</td>\n",
       "      <td>ARSON-DAM.PROP.</td>\n",
       "      <td>1</td>\n",
       "    </tr>\n",
       "    <tr>\n",
       "      <th>2</th>\n",
       "      <td>Downtown</td>\n",
       "      <td>B&amp;E NON-RESIDNCE</td>\n",
       "      <td>7</td>\n",
       "    </tr>\n",
       "    <tr>\n",
       "      <th>3</th>\n",
       "      <td>Downtown</td>\n",
       "      <td>B&amp;E RESIDENCE</td>\n",
       "      <td>3</td>\n",
       "    </tr>\n",
       "    <tr>\n",
       "      <th>4</th>\n",
       "      <td>Downtown</td>\n",
       "      <td>MISCHIEF TO PROP</td>\n",
       "      <td>29</td>\n",
       "    </tr>\n",
       "  </tbody>\n",
       "</table>\n",
       "</div>"
      ],
      "text/plain": [
       "  Neighbourhood        Crime_Type   0\n",
       "0      Downtown             ARSON   1\n",
       "1      Downtown   ARSON-DAM.PROP.   1\n",
       "2      Downtown  B&E NON-RESIDNCE   7\n",
       "3      Downtown     B&E RESIDENCE   3\n",
       "4      Downtown  MISCHIEF TO PROP  29"
      ]
     },
     "execution_count": 88,
     "metadata": {},
     "output_type": "execute_result"
    }
   ],
   "source": [
    "DF.head()"
   ]
  },
  {
   "cell_type": "code",
   "execution_count": 89,
   "metadata": {},
   "outputs": [],
   "source": [
    "DF.columns = [\"Neighbourhood\",\"Crime\",\"Frequency\"]"
   ]
  },
  {
   "cell_type": "code",
   "execution_count": 90,
   "metadata": {},
   "outputs": [
    {
     "data": {
      "text/html": [
       "<div>\n",
       "<style scoped>\n",
       "    .dataframe tbody tr th:only-of-type {\n",
       "        vertical-align: middle;\n",
       "    }\n",
       "\n",
       "    .dataframe tbody tr th {\n",
       "        vertical-align: top;\n",
       "    }\n",
       "\n",
       "    .dataframe thead th {\n",
       "        text-align: right;\n",
       "    }\n",
       "</style>\n",
       "<table border=\"1\" class=\"dataframe\">\n",
       "  <thead>\n",
       "    <tr style=\"text-align: right;\">\n",
       "      <th></th>\n",
       "      <th>Neighbourhood</th>\n",
       "      <th>Crime</th>\n",
       "      <th>Frequency</th>\n",
       "    </tr>\n",
       "  </thead>\n",
       "  <tbody>\n",
       "    <tr>\n",
       "      <th>0</th>\n",
       "      <td>Downtown</td>\n",
       "      <td>ARSON</td>\n",
       "      <td>1</td>\n",
       "    </tr>\n",
       "    <tr>\n",
       "      <th>1</th>\n",
       "      <td>Downtown</td>\n",
       "      <td>ARSON-DAM.PROP.</td>\n",
       "      <td>1</td>\n",
       "    </tr>\n",
       "    <tr>\n",
       "      <th>2</th>\n",
       "      <td>Downtown</td>\n",
       "      <td>B&amp;E NON-RESIDNCE</td>\n",
       "      <td>7</td>\n",
       "    </tr>\n",
       "    <tr>\n",
       "      <th>3</th>\n",
       "      <td>Downtown</td>\n",
       "      <td>B&amp;E RESIDENCE</td>\n",
       "      <td>3</td>\n",
       "    </tr>\n",
       "    <tr>\n",
       "      <th>4</th>\n",
       "      <td>Downtown</td>\n",
       "      <td>MISCHIEF TO PROP</td>\n",
       "      <td>29</td>\n",
       "    </tr>\n",
       "  </tbody>\n",
       "</table>\n",
       "</div>"
      ],
      "text/plain": [
       "  Neighbourhood             Crime  Frequency\n",
       "0      Downtown             ARSON          1\n",
       "1      Downtown   ARSON-DAM.PROP.          1\n",
       "2      Downtown  B&E NON-RESIDNCE          7\n",
       "3      Downtown     B&E RESIDENCE          3\n",
       "4      Downtown  MISCHIEF TO PROP         29"
      ]
     },
     "execution_count": 90,
     "metadata": {},
     "output_type": "execute_result"
    }
   ],
   "source": [
    "DF.head()"
   ]
  },
  {
   "cell_type": "code",
   "execution_count": 95,
   "metadata": {},
   "outputs": [
    {
     "data": {
      "text/plain": [
       "<matplotlib.axes._subplots.AxesSubplot at 0x26c03785ef0>"
      ]
     },
     "execution_count": 95,
     "metadata": {},
     "output_type": "execute_result"
    },
    {
     "data": {
      "image/png": "[encoded data removed]",
      "text/plain": [
       "<Figure size 1440x720 with 1 Axes>"
      ]
     },
     "metadata": {
      "needs_background": "light"
     },
     "output_type": "display_data"
    }
   ],
   "source": [
    "plt.figure(figsize = (20,10))\n",
    "sns.barplot(x = 'Neighbourhood', y = \"Frequency\", data = DF, hue = \"Crime\")"
   ]
  },
  {
   "cell_type": "markdown",
   "metadata": {},
   "source": [
    "## Now it is clear that North Devon Neighbourhood is the best place for us to start advertising our home alarm soundsystem while Platt is for our wearables division"
   ]
  },
  {
   "cell_type": "code",
   "execution_count": 96,
   "metadata": {},
   "outputs": [],
   "source": [
    "from sklearn.cluster import KMeans"
   ]
  },
  {
   "cell_type": "code",
   "execution_count": 106,
   "metadata": {},
   "outputs": [
    {
     "data": {
      "text/html": [
       "<div>\n",
       "<style scoped>\n",
       "    .dataframe tbody tr th:only-of-type {\n",
       "        vertical-align: middle;\n",
       "    }\n",
       "\n",
       "    .dataframe tbody tr th {\n",
       "        vertical-align: top;\n",
       "    }\n",
       "\n",
       "    .dataframe thead th {\n",
       "        text-align: right;\n",
       "    }\n",
       "</style>\n",
       "<table border=\"1\" class=\"dataframe\">\n",
       "  <thead>\n",
       "    <tr style=\"text-align: right;\">\n",
       "      <th></th>\n",
       "      <th>Neighbourhood</th>\n",
       "      <th>Crime</th>\n",
       "      <th>Frequency</th>\n",
       "    </tr>\n",
       "  </thead>\n",
       "  <tbody>\n",
       "    <tr>\n",
       "      <th>0</th>\n",
       "      <td>Downtown</td>\n",
       "      <td>ARSON</td>\n",
       "      <td>1</td>\n",
       "    </tr>\n",
       "    <tr>\n",
       "      <th>1</th>\n",
       "      <td>Downtown</td>\n",
       "      <td>ARSON-DAM.PROP.</td>\n",
       "      <td>1</td>\n",
       "    </tr>\n",
       "    <tr>\n",
       "      <th>2</th>\n",
       "      <td>Downtown</td>\n",
       "      <td>B&amp;E NON-RESIDNCE</td>\n",
       "      <td>7</td>\n",
       "    </tr>\n",
       "    <tr>\n",
       "      <th>3</th>\n",
       "      <td>Downtown</td>\n",
       "      <td>B&amp;E RESIDENCE</td>\n",
       "      <td>3</td>\n",
       "    </tr>\n",
       "    <tr>\n",
       "      <th>4</th>\n",
       "      <td>Downtown</td>\n",
       "      <td>MISCHIEF TO PROP</td>\n",
       "      <td>29</td>\n",
       "    </tr>\n",
       "  </tbody>\n",
       "</table>\n",
       "</div>"
      ],
      "text/plain": [
       "  Neighbourhood             Crime  Frequency\n",
       "0      Downtown             ARSON          1\n",
       "1      Downtown   ARSON-DAM.PROP.          1\n",
       "2      Downtown  B&E NON-RESIDNCE          7\n",
       "3      Downtown     B&E RESIDENCE          3\n",
       "4      Downtown  MISCHIEF TO PROP         29"
      ]
     },
     "execution_count": 106,
     "metadata": {},
     "output_type": "execute_result"
    }
   ],
   "source": [
    "DF.head()"
   ]
  },
  {
   "cell_type": "markdown",
   "metadata": {},
   "source": [
    "## K Means clustering is used to segment the various neighbourhoods into categories to identify which Neighbourhoods have similar features that I may have missed"
   ]
  },
  {
   "cell_type": "code",
   "execution_count": 112,
   "metadata": {},
   "outputs": [
    {
     "data": {
      "text/plain": [
       "array([1, 1, 1, 1, 2, 1, 1, 1, 2, 0])"
      ]
     },
     "execution_count": 112,
     "metadata": {},
     "output_type": "execute_result"
    }
   ],
   "source": [
    "kclusters = 3\n",
    "\n",
    "CrimeClusters = DF.drop(['Neighbourhood',\"Crime\"], axis = 1)\n",
    "\n",
    "# run k-means clustering\n",
    "kmeans = KMeans(n_clusters=kclusters, random_state=0).fit(CrimeClusters)\n",
    "\n",
    "# check cluster labels generated for each row in the dataframe\n",
    "kmeans.labels_[0:10] "
   ]
  },
  {
   "cell_type": "code",
   "execution_count": 115,
   "metadata": {},
   "outputs": [],
   "source": [
    "DF.insert(0, 'ClusterLabels', kmeans.labels_)\n",
    "\n"
   ]
  },
  {
   "cell_type": "code",
   "execution_count": 116,
   "metadata": {},
   "outputs": [
    {
     "data": {
      "text/plain": [
       "<matplotlib.axes._subplots.AxesSubplot at 0x26c04450668>"
      ]
     },
     "execution_count": 116,
     "metadata": {},
     "output_type": "execute_result"
    },
    {
     "data": {
      "image/png": "[encoded data removed]",
      "text/plain": [
       "<Figure size 432x288 with 1 Axes>"
      ]
     },
     "metadata": {
      "needs_background": "light"
     },
     "output_type": "display_data"
    }
   ],
   "source": [
    "sns.scatterplot(x = \"Neighbourhood\", y = \"ClusterLabels\", data = DF)"
   ]
  },
  {
   "cell_type": "code",
   "execution_count": 118,
   "metadata": {},
   "outputs": [
    {
     "data": {
      "text/html": [
       "<div>\n",
       "<style scoped>\n",
       "    .dataframe tbody tr th:only-of-type {\n",
       "        vertical-align: middle;\n",
       "    }\n",
       "\n",
       "    .dataframe tbody tr th {\n",
       "        vertical-align: top;\n",
       "    }\n",
       "\n",
       "    .dataframe thead th {\n",
       "        text-align: right;\n",
       "    }\n",
       "</style>\n",
       "<table border=\"1\" class=\"dataframe\">\n",
       "  <thead>\n",
       "    <tr style=\"text-align: right;\">\n",
       "      <th></th>\n",
       "      <th>Cluster Labels</th>\n",
       "      <th>Frequency</th>\n",
       "    </tr>\n",
       "    <tr>\n",
       "      <th>ClusterLabels</th>\n",
       "      <th></th>\n",
       "      <th></th>\n",
       "    </tr>\n",
       "  </thead>\n",
       "  <tbody>\n",
       "    <tr>\n",
       "      <th>0</th>\n",
       "      <td>0.800000</td>\n",
       "      <td>49.600000</td>\n",
       "    </tr>\n",
       "    <tr>\n",
       "      <th>1</th>\n",
       "      <td>1.258065</td>\n",
       "      <td>3.806452</td>\n",
       "    </tr>\n",
       "    <tr>\n",
       "      <th>2</th>\n",
       "      <td>2.600000</td>\n",
       "      <td>23.800000</td>\n",
       "    </tr>\n",
       "  </tbody>\n",
       "</table>\n",
       "</div>"
      ],
      "text/plain": [
       "               Cluster Labels  Frequency\n",
       "ClusterLabels                           \n",
       "0                    0.800000  49.600000\n",
       "1                    1.258065   3.806452\n",
       "2                    2.600000  23.800000"
      ]
     },
     "execution_count": 118,
     "metadata": {},
     "output_type": "execute_result"
    }
   ],
   "source": [
    "DF.groupby('ClusterLabels').mean()"
   ]
  },
  {
   "cell_type": "code",
   "execution_count": null,
   "metadata": {},
   "outputs": [],
   "source": [
    "### It is clear that because of the various crimes, the top 5 neighbourhoods have very similar features for their crime rates hence we can focus on anyone as a fertile market."
   ]
  }
 ],
 "metadata": {
  "kernelspec": {
   "display_name": "Python 3",
   "language": "python",
   "name": "python3"
  },
  "language_info": {
   "codemirror_mode": {
    "name": "ipython",
    "version": 3
   },
   "file_extension": ".py",
   "mimetype": "text/x-python",
   "name": "python",
   "nbconvert_exporter": "python",
   "pygments_lexer": "ipython3",
   "version": "3.7.3"
  }
 },
 "nbformat": 4,
 "nbformat_minor": 2
}
