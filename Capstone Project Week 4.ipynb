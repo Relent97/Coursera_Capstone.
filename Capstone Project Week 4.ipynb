{
 "cells": [
  {
   "cell_type": "markdown",
   "metadata": {},
   "source": [
    "# Expansion plans for CFL Bulb producers & distributors\n",
    "\n",
    "## Background:\n",
    "Climate change is a hot button topic in World politics and economic policies. Many scientists have raised an alarm that the world is currently in a climate crises and many governments are beginning to heed their calls. Even Microsoft has pledged to carbon negative by 2030.  This has led an explosion in the “Green Industry” these are climate and Eco-friendly products that will help reduce our carbon emissions and energy usage.\n",
    "Compact fluorescent light (CFL) bulbs are an excellent step toward reducing home and office energy usage. These bulbs can last 13 times longer than incandescents, so there's less landfill waste. As an added bonus, CFL bulbs can reportedly customers up to $40 in energy costs per year over incandescent bulbs. There could be a huge market right now for companies that currently produce CFL bulbs hence a conundrum.\n",
    "## Business Problem:\n",
    "A classic problem whenever a company wants to expand outside it’s existing geographical market is where do we expand to? Here the reasons for the expansion differ based on a few factors mentioned below:\n",
    "1)\tThe overall goal or objective: Is the company pursuing expansion without and being profitable in the long term based on scale?(Tech companies like Uber and WeWork fit into this narrative)  or are they targeting a new region that will be as profitable as their current reach and have almost immediate returns\n",
    "2)\tThe need to enter high growth or high population markets such as the Emerging Markets in order to show steady growth numbers to investors and stakeholders.\n",
    "## The data:\n",
    "Leveraging data from Foursquare it is possible based on the company’s preference to recommend cities or regions with similar features for their expansion. Companies with limited resources but with the aim to expand often need a higher level of certainty that this next region (city or country) will be as profitable as their current ones or in the reverse, avoid cities that are similar to their worst performing regions.\n",
    "From the topic, it is very clear that the interested groups in this research topic are the MSME’s or Mid cap organizations who want to be able to supply CFL bulbs to multiple regions in the U.S but do not have the resources to compete with the massive multi-nationals.  \n",
    "The data will be scraped from https://www.eia.gov/electricity/state/ that contains the electricity costs along with the total electricity generation and consumption. This data will be cross referenced with the Foursquare data to understand the best clusters to target.\n"
   ]
  },
  {
   "cell_type": "code",
   "execution_count": 4,
   "metadata": {},
   "outputs": [
    {
     "name": "stdout",
     "output_type": "stream",
     "text": [
      "First batch of Libraries Imported\n"
     ]
    }
   ],
   "source": [
    "import pandas as pd\n",
    "import numpy as np\n",
    "import matplotlib.pyplot as plt\n",
    "from bs4 import BeautifulSoup\n",
    "import requests\n",
    "print(\"First batch of Libraries Imported\")"
   ]
  },
  {
   "cell_type": "code",
   "execution_count": null,
   "metadata": {},
   "outputs": [],
   "source": []
  }
 ],
 "metadata": {
  "kernelspec": {
   "display_name": "Python 3",
   "language": "python",
   "name": "python3"
  },
  "language_info": {
   "codemirror_mode": {
    "name": "ipython",
    "version": 3
   },
   "file_extension": ".py",
   "mimetype": "text/x-python",
   "name": "python",
   "nbconvert_exporter": "python",
   "pygments_lexer": "ipython3",
   "version": "3.7.3"
  }
 },
 "nbformat": 4,
 "nbformat_minor": 2
}
